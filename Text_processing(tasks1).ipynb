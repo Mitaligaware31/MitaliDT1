{
 "cells": [
  {
   "cell_type": "markdown",
   "id": "6ed68b0d-bcaf-4d1c-83c0-780a3ef97867",
   "metadata": {},
   "source": [
    " 1. Installing transformers library"
   ]
  },
  {
   "cell_type": "code",
   "execution_count": 15,
   "id": "134cfa87-c2a7-4678-af68-8d31112cd266",
   "metadata": {},
   "outputs": [],
   "source": [
    "!pip install transformers --quiet"
   ]
  },
  {
   "cell_type": "markdown",
   "id": "d18560a6-5ae3-4f01-9073-174013fa9996",
   "metadata": {},
   "source": [
    " 2.  Importing GPT Tokenizer and Model"
   ]
  },
  {
   "cell_type": "code",
   "execution_count": 16,
   "id": "fd64312a-c419-45cb-a976-0d204f18fef8",
   "metadata": {},
   "outputs": [],
   "source": [
    "from transformers import GPT2Tokenizer, GPT2Model\n",
    "import torch"
   ]
  },
  {
   "cell_type": "markdown",
   "id": "f2e48f4f-4b01-4ea8-8fcb-b24650d201e7",
   "metadata": {},
   "source": [
    " 3. Loading GPT Tokenizer and Model (GPT-2)"
   ]
  },
  {
   "cell_type": "code",
   "execution_count": 17,
   "id": "f7d55dbb-b351-4d0e-9619-39a4e9ce9f3d",
   "metadata": {},
   "outputs": [],
   "source": [
    "tokenizer = GPT2Tokenizer.from_pretrained(\"gpt2\")\n",
    "model = GPT2Model.from_pretrained(\"gpt2\")"
   ]
  },
  {
   "cell_type": "markdown",
   "id": "30cb235f-fc4b-4f24-af24-46fe52a09ed6",
   "metadata": {},
   "source": [
    " 4. Defining input  text"
   ]
  },
  {
   "cell_type": "code",
   "execution_count": 18,
   "id": "fc948da3-00a5-48ab-bc3c-941f44da7d9a",
   "metadata": {},
   "outputs": [],
   "source": [
    "text = \"GPT-2 is a powerful model for generating human-like text.\""
   ]
  },
  {
   "cell_type": "markdown",
   "id": "1fbf487c-0f3c-4826-aa52-792714a2b037",
   "metadata": {},
   "source": [
    " 5. Now Tokenizing the Text"
   ]
  },
  {
   "cell_type": "code",
   "execution_count": 19,
   "id": "0b66a675-4e75-4a45-aff9-48e676bc4f69",
   "metadata": {},
   "outputs": [
    {
     "name": "stdout",
     "output_type": "stream",
     "text": [
      "Tokens: ['G', 'PT', '-', '2', 'Ġis', 'Ġa', 'Ġpowerful', 'Ġmodel', 'Ġfor', 'Ġgenerating', 'Ġhuman', '-', 'like', 'Ġtext', '.']\n"
     ]
    }
   ],
   "source": [
    "tokens = tokenizer.tokenize(text)\n",
    "print(\"Tokens:\", tokens)\n"
   ]
  },
  {
   "cell_type": "markdown",
   "id": "d1f674b8-8a77-408e-8129-309c4e096adf",
   "metadata": {},
   "source": [
    " 6. Converting Tokens to IDs (Encoding)"
   ]
  },
  {
   "cell_type": "code",
   "execution_count": 20,
   "id": "ecbef68d-4382-4815-98ba-17ba913fd033",
   "metadata": {},
   "outputs": [
    {
     "name": "stdout",
     "output_type": "stream",
     "text": [
      "Input IDs: [38, 11571, 12, 17, 318, 257, 3665, 2746, 329, 15453, 1692, 12, 2339, 2420, 13]\n"
     ]
    }
   ],
   "source": [
    "input_ids = tokenizer.convert_tokens_to_ids(tokens)\n",
    "print(\"Input IDs:\", input_ids)"
   ]
  },
  {
   "cell_type": "markdown",
   "id": "44094589-cdea-41ed-90fd-739a4e244da0",
   "metadata": {},
   "source": [
    " 7. Encoding and Converting to Tensors for Model Input"
   ]
  },
  {
   "cell_type": "code",
   "execution_count": 21,
   "id": "95629c31-4b23-46cc-85bb-8c5d07c0d284",
   "metadata": {},
   "outputs": [
    {
     "name": "stdout",
     "output_type": "stream",
     "text": [
      "Token IDs Tensor: tensor([[   38, 11571,    12,    17,   318,   257,  3665,  2746,   329, 15453,\n",
      "          1692,    12,  2339,  2420,    13]])\n"
     ]
    }
   ],
   "source": [
    "inputs = tokenizer(text, return_tensors=\"pt\")\n",
    "print(\"Token IDs Tensor:\", inputs[\"input_ids\"])"
   ]
  },
  {
   "cell_type": "markdown",
   "id": "bdac9c8a-3901-4ea8-88a6-b87899547cb7",
   "metadata": {},
   "source": [
    " 8. Passing Encoded Text through GPT Model"
   ]
  },
  {
   "cell_type": "code",
   "execution_count": 22,
   "id": "886e9344-865a-497e-bf6c-199daaff49b3",
   "metadata": {},
   "outputs": [
    {
     "name": "stdout",
     "output_type": "stream",
     "text": [
      "Last Hidden State Shape: torch.Size([1, 15, 768])\n"
     ]
    }
   ],
   "source": [
    "with torch.no_grad():\n",
    "    outputs = model(**inputs)\n",
    "\n",
    "last_hidden_states = outputs.last_hidden_state\n",
    "print(\"Last Hidden State Shape:\", last_hidden_states.shape)"
   ]
  }
 ],
 "metadata": {
  "kernelspec": {
   "display_name": "Python 3 (ipykernel)",
   "language": "python",
   "name": "python3"
  },
  "language_info": {
   "codemirror_mode": {
    "name": "ipython",
    "version": 3
   },
   "file_extension": ".py",
   "mimetype": "text/x-python",
   "name": "python",
   "nbconvert_exporter": "python",
   "pygments_lexer": "ipython3",
   "version": "3.12.7"
  }
 },
 "nbformat": 4,
 "nbformat_minor": 5
}
