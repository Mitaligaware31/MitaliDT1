{
 "cells": [
  {
   "cell_type": "code",
   "execution_count": 26,
   "id": "1b766c97-44eb-49a9-8aab-f4056ef38b18",
   "metadata": {},
   "outputs": [
    {
     "name": "stderr",
     "output_type": "stream",
     "text": [
      "[nltk_data] Downloading package punkt to C:\\Users\\Mitali\n",
      "[nltk_data]     Gaware\\AppData\\Roaming\\nltk_data...\n",
      "[nltk_data]   Package punkt is already up-to-date!\n",
      "[nltk_data] Downloading package punkt_tab to C:\\Users\\Mitali\n",
      "[nltk_data]     Gaware\\AppData\\Roaming\\nltk_data...\n",
      "[nltk_data]   Unzipping tokenizers\\punkt_tab.zip.\n"
     ]
    },
    {
     "data": {
      "text/plain": [
       "True"
      ]
     },
     "execution_count": 26,
     "metadata": {},
     "output_type": "execute_result"
    }
   ],
   "source": [
    "import nltk\n",
    "nltk.download('punkt')\n",
    "nltk.download('punkt_tab')\n"
   ]
  },
  {
   "cell_type": "code",
   "execution_count": 29,
   "id": "ff05846b-35b4-417d-ba65-f3ffb4ffa40a",
   "metadata": {},
   "outputs": [],
   "source": [
    "import re\n",
    "from nltk.tokenize import word_tokenize\n",
    "\n",
    "def preprocess_text(text):\n",
    "    if not isinstance(text, str):\n",
    "       raise ValueError(\"Input must be a string\")\n",
    "    text = text.lower()\n",
    "    text = re.sub(r'[^a-zA-Z0-9\\s]', '', text)\n",
    "    words = word_tokenize(text)\n",
    "    return words\n"
   ]
  },
  {
   "cell_type": "code",
   "execution_count": 31,
   "id": "324c8870-d90e-4527-a5ea-d301ae049f62",
   "metadata": {
    "scrolled": true
   },
   "outputs": [
    {
     "name": "stdout",
     "output_type": "stream",
     "text": [
      "Tokenized and cleaned text: ['hello', 'my', 'name', 'is', 'mitali', 'gaware', 'and', 'i', 'am', 'awesome']\n"
     ]
    }
   ],
   "source": [
    "raw_text = \"Hello, My name is Mitali Gaware and I am awesome.\"\n",
    "cleaned_tokens = preprocess_text(raw_text)\n",
    "print(\"Tokenized and cleaned text:\", cleaned_tokens)\n"
   ]
  },
  {
   "cell_type": "code",
   "execution_count": null,
   "id": "d010f0cb-18ca-460b-b305-09453333a712",
   "metadata": {},
   "outputs": [],
   "source": []
  }
 ],
 "metadata": {
  "kernelspec": {
   "display_name": "Python 3 (ipykernel)",
   "language": "python",
   "name": "python3"
  },
  "language_info": {
   "codemirror_mode": {
    "name": "ipython",
    "version": 3
   },
   "file_extension": ".py",
   "mimetype": "text/x-python",
   "name": "python",
   "nbconvert_exporter": "python",
   "pygments_lexer": "ipython3",
   "version": "3.12.7"
  }
 },
 "nbformat": 4,
 "nbformat_minor": 5
}
